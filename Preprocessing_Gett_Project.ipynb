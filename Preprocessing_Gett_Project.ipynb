{
  "nbformat": 4,
  "nbformat_minor": 0,
  "metadata": {
    "colab": {
      "provenance": [],
      "mount_file_id": "151PStgD5mAEAQCP3pFcBNGfdZnN_nsgU",
      "authorship_tag": "ABX9TyMIn4IQHy2rQQv2SJ9w3wMY",
      "include_colab_link": true
    },
    "kernelspec": {
      "name": "python3",
      "display_name": "Python 3"
    },
    "language_info": {
      "name": "python"
    }
  },
  "cells": [
    {
      "cell_type": "markdown",
      "metadata": {
        "id": "view-in-github",
        "colab_type": "text"
      },
      "source": [
        "<a href=\"https://colab.research.google.com/github/malikkarim14/Failed-Orders-at-Gett/blob/main/Preprocessing_Gett_Project.ipynb\" target=\"_parent\"><img src=\"https://colab.research.google.com/assets/colab-badge.svg\" alt=\"Open In Colab\"/></a>"
      ]
    },
    {
      "cell_type": "code",
      "execution_count": null,
      "metadata": {
        "id": "UuYcqPT7RI4A"
      },
      "outputs": [],
      "source": [
        "import pandas as pd\n",
        "import numpy as np"
      ]
    },
    {
      "cell_type": "code",
      "source": [
        "data = pd.read_csv(\"/content/drive/MyDrive/Data Project/Insights from Failed Orders (Gett)/data_orders.csv\")\n",
        "data.head()"
      ],
      "metadata": {
        "colab": {
          "base_uri": "https://localhost:8080/",
          "height": 270
        },
        "id": "FM9ZdluHR2CJ",
        "outputId": "5434bf4f-e84b-49d7-a27e-96bdcfb86750"
      },
      "execution_count": null,
      "outputs": [
        {
          "output_type": "execute_result",
          "data": {
            "text/plain": [
              "  order_datetime  origin_longitude  origin_latitude  m_order_eta  \\\n",
              "0       18:08:07         -0.978916        51.456173         60.0   \n",
              "1       20:57:32         -0.950385        51.456843          NaN   \n",
              "2       12:07:50         -0.969520        51.455544        477.0   \n",
              "3       13:50:20         -1.054671        51.460544        658.0   \n",
              "4       21:24:45         -0.967605        51.458236          NaN   \n",
              "\n",
              "        order_gk  order_status_key  is_driver_assigned_key  \\\n",
              "0  3000583041974                 4                       1   \n",
              "1  3000583116437                 4                       0   \n",
              "2  3000582891479                 4                       1   \n",
              "3  3000582941169                 4                       1   \n",
              "4  3000583140877                 9                       0   \n",
              "\n",
              "   cancellations_time_in_seconds  \n",
              "0                          198.0  \n",
              "1                          128.0  \n",
              "2                           46.0  \n",
              "3                           62.0  \n",
              "4                            NaN  "
            ],
            "text/html": [
              "\n",
              "  <div id=\"df-4658c791-fee7-43e3-a713-b0dd9321d53b\">\n",
              "    <div class=\"colab-df-container\">\n",
              "      <div>\n",
              "<style scoped>\n",
              "    .dataframe tbody tr th:only-of-type {\n",
              "        vertical-align: middle;\n",
              "    }\n",
              "\n",
              "    .dataframe tbody tr th {\n",
              "        vertical-align: top;\n",
              "    }\n",
              "\n",
              "    .dataframe thead th {\n",
              "        text-align: right;\n",
              "    }\n",
              "</style>\n",
              "<table border=\"1\" class=\"dataframe\">\n",
              "  <thead>\n",
              "    <tr style=\"text-align: right;\">\n",
              "      <th></th>\n",
              "      <th>order_datetime</th>\n",
              "      <th>origin_longitude</th>\n",
              "      <th>origin_latitude</th>\n",
              "      <th>m_order_eta</th>\n",
              "      <th>order_gk</th>\n",
              "      <th>order_status_key</th>\n",
              "      <th>is_driver_assigned_key</th>\n",
              "      <th>cancellations_time_in_seconds</th>\n",
              "    </tr>\n",
              "  </thead>\n",
              "  <tbody>\n",
              "    <tr>\n",
              "      <th>0</th>\n",
              "      <td>18:08:07</td>\n",
              "      <td>-0.978916</td>\n",
              "      <td>51.456173</td>\n",
              "      <td>60.0</td>\n",
              "      <td>3000583041974</td>\n",
              "      <td>4</td>\n",
              "      <td>1</td>\n",
              "      <td>198.0</td>\n",
              "    </tr>\n",
              "    <tr>\n",
              "      <th>1</th>\n",
              "      <td>20:57:32</td>\n",
              "      <td>-0.950385</td>\n",
              "      <td>51.456843</td>\n",
              "      <td>NaN</td>\n",
              "      <td>3000583116437</td>\n",
              "      <td>4</td>\n",
              "      <td>0</td>\n",
              "      <td>128.0</td>\n",
              "    </tr>\n",
              "    <tr>\n",
              "      <th>2</th>\n",
              "      <td>12:07:50</td>\n",
              "      <td>-0.969520</td>\n",
              "      <td>51.455544</td>\n",
              "      <td>477.0</td>\n",
              "      <td>3000582891479</td>\n",
              "      <td>4</td>\n",
              "      <td>1</td>\n",
              "      <td>46.0</td>\n",
              "    </tr>\n",
              "    <tr>\n",
              "      <th>3</th>\n",
              "      <td>13:50:20</td>\n",
              "      <td>-1.054671</td>\n",
              "      <td>51.460544</td>\n",
              "      <td>658.0</td>\n",
              "      <td>3000582941169</td>\n",
              "      <td>4</td>\n",
              "      <td>1</td>\n",
              "      <td>62.0</td>\n",
              "    </tr>\n",
              "    <tr>\n",
              "      <th>4</th>\n",
              "      <td>21:24:45</td>\n",
              "      <td>-0.967605</td>\n",
              "      <td>51.458236</td>\n",
              "      <td>NaN</td>\n",
              "      <td>3000583140877</td>\n",
              "      <td>9</td>\n",
              "      <td>0</td>\n",
              "      <td>NaN</td>\n",
              "    </tr>\n",
              "  </tbody>\n",
              "</table>\n",
              "</div>\n",
              "      <button class=\"colab-df-convert\" onclick=\"convertToInteractive('df-4658c791-fee7-43e3-a713-b0dd9321d53b')\"\n",
              "              title=\"Convert this dataframe to an interactive table.\"\n",
              "              style=\"display:none;\">\n",
              "        \n",
              "  <svg xmlns=\"http://www.w3.org/2000/svg\" height=\"24px\"viewBox=\"0 0 24 24\"\n",
              "       width=\"24px\">\n",
              "    <path d=\"M0 0h24v24H0V0z\" fill=\"none\"/>\n",
              "    <path d=\"M18.56 5.44l.94 2.06.94-2.06 2.06-.94-2.06-.94-.94-2.06-.94 2.06-2.06.94zm-11 1L8.5 8.5l.94-2.06 2.06-.94-2.06-.94L8.5 2.5l-.94 2.06-2.06.94zm10 10l.94 2.06.94-2.06 2.06-.94-2.06-.94-.94-2.06-.94 2.06-2.06.94z\"/><path d=\"M17.41 7.96l-1.37-1.37c-.4-.4-.92-.59-1.43-.59-.52 0-1.04.2-1.43.59L10.3 9.45l-7.72 7.72c-.78.78-.78 2.05 0 2.83L4 21.41c.39.39.9.59 1.41.59.51 0 1.02-.2 1.41-.59l7.78-7.78 2.81-2.81c.8-.78.8-2.07 0-2.86zM5.41 20L4 18.59l7.72-7.72 1.47 1.35L5.41 20z\"/>\n",
              "  </svg>\n",
              "      </button>\n",
              "      \n",
              "  <style>\n",
              "    .colab-df-container {\n",
              "      display:flex;\n",
              "      flex-wrap:wrap;\n",
              "      gap: 12px;\n",
              "    }\n",
              "\n",
              "    .colab-df-convert {\n",
              "      background-color: #E8F0FE;\n",
              "      border: none;\n",
              "      border-radius: 50%;\n",
              "      cursor: pointer;\n",
              "      display: none;\n",
              "      fill: #1967D2;\n",
              "      height: 32px;\n",
              "      padding: 0 0 0 0;\n",
              "      width: 32px;\n",
              "    }\n",
              "\n",
              "    .colab-df-convert:hover {\n",
              "      background-color: #E2EBFA;\n",
              "      box-shadow: 0px 1px 2px rgba(60, 64, 67, 0.3), 0px 1px 3px 1px rgba(60, 64, 67, 0.15);\n",
              "      fill: #174EA6;\n",
              "    }\n",
              "\n",
              "    [theme=dark] .colab-df-convert {\n",
              "      background-color: #3B4455;\n",
              "      fill: #D2E3FC;\n",
              "    }\n",
              "\n",
              "    [theme=dark] .colab-df-convert:hover {\n",
              "      background-color: #434B5C;\n",
              "      box-shadow: 0px 1px 3px 1px rgba(0, 0, 0, 0.15);\n",
              "      filter: drop-shadow(0px 1px 2px rgba(0, 0, 0, 0.3));\n",
              "      fill: #FFFFFF;\n",
              "    }\n",
              "  </style>\n",
              "\n",
              "      <script>\n",
              "        const buttonEl =\n",
              "          document.querySelector('#df-4658c791-fee7-43e3-a713-b0dd9321d53b button.colab-df-convert');\n",
              "        buttonEl.style.display =\n",
              "          google.colab.kernel.accessAllowed ? 'block' : 'none';\n",
              "\n",
              "        async function convertToInteractive(key) {\n",
              "          const element = document.querySelector('#df-4658c791-fee7-43e3-a713-b0dd9321d53b');\n",
              "          const dataTable =\n",
              "            await google.colab.kernel.invokeFunction('convertToInteractive',\n",
              "                                                     [key], {});\n",
              "          if (!dataTable) return;\n",
              "\n",
              "          const docLinkHtml = 'Like what you see? Visit the ' +\n",
              "            '<a target=\"_blank\" href=https://colab.research.google.com/notebooks/data_table.ipynb>data table notebook</a>'\n",
              "            + ' to learn more about interactive tables.';\n",
              "          element.innerHTML = '';\n",
              "          dataTable['output_type'] = 'display_data';\n",
              "          await google.colab.output.renderOutput(dataTable, element);\n",
              "          const docLink = document.createElement('div');\n",
              "          docLink.innerHTML = docLinkHtml;\n",
              "          element.appendChild(docLink);\n",
              "        }\n",
              "      </script>\n",
              "    </div>\n",
              "  </div>\n",
              "  "
            ]
          },
          "metadata": {},
          "execution_count": 2
        }
      ]
    },
    {
      "cell_type": "code",
      "source": [
        "data.info()"
      ],
      "metadata": {
        "colab": {
          "base_uri": "https://localhost:8080/"
        },
        "id": "8uSx8IGzSn5f",
        "outputId": "a437aa22-5c75-469e-bbe7-1b73317e04cd"
      },
      "execution_count": null,
      "outputs": [
        {
          "output_type": "stream",
          "name": "stdout",
          "text": [
            "<class 'pandas.core.frame.DataFrame'>\n",
            "RangeIndex: 10716 entries, 0 to 10715\n",
            "Data columns (total 8 columns):\n",
            " #   Column                         Non-Null Count  Dtype  \n",
            "---  ------                         --------------  -----  \n",
            " 0   order_datetime                 10716 non-null  object \n",
            " 1   origin_longitude               10716 non-null  float64\n",
            " 2   origin_latitude                10716 non-null  float64\n",
            " 3   m_order_eta                    2814 non-null   float64\n",
            " 4   order_gk                       10716 non-null  int64  \n",
            " 5   order_status_key               10716 non-null  int64  \n",
            " 6   is_driver_assigned_key         10716 non-null  int64  \n",
            " 7   cancellations_time_in_seconds  7307 non-null   float64\n",
            "dtypes: float64(4), int64(3), object(1)\n",
            "memory usage: 669.9+ KB\n"
          ]
        }
      ]
    },
    {
      "cell_type": "markdown",
      "source": [
        "The values in `order_status_key` and `is_driver_assigned_key` are not informative of the contents, but rather point to some internal description. We could replace the `1`s in `is_driver_assigned_key` with the string `Yes` and the `0`s with the string `No` to provide more information. The `order_status_key` column can be treated the same way. Furthermore, the column names appear a little technical, but we can change them."
      ],
      "metadata": {
        "id": "1139ja-OtNxr"
      }
    },
    {
      "cell_type": "code",
      "source": [
        "data[\"is_driver_assigned\"] = np.where(data[\"is_driver_assigned_key\"] == 1, \"Yes\", \"No\")\n",
        "data[\"order_status\"] = np.where(data[\"order_status_key\"] == 4, \"Client Cancelled\", \"System Reject\")\n",
        "\n",
        "data.drop(columns=[\"is_driver_assigned_key\", \"order_status_key\"], inplace=True)"
      ],
      "metadata": {
        "id": "voLUigX8dY_R"
      },
      "execution_count": null,
      "outputs": []
    },
    {
      "cell_type": "code",
      "source": [
        "data = data.rename(columns={\"order_datetime\": \"order_time\"})"
      ],
      "metadata": {
        "id": "LDHk2C95dj3V"
      },
      "execution_count": null,
      "outputs": []
    },
    {
      "cell_type": "markdown",
      "source": [
        "We'll take the hour from `order_time` and make a new column for it because we're curious about when these failures occur and if there's a specific time of day when one category outnumbers others."
      ],
      "metadata": {
        "id": "qaBh6Od2xHoY"
      }
    },
    {
      "cell_type": "code",
      "source": [
        "# extract hour from the time column\n",
        "data[\"order_hour\"] = data[\"order_time\"].str.split(\":\").apply(lambda split: split[0])"
      ],
      "metadata": {
        "id": "ep6zF4gmeyis"
      },
      "execution_count": null,
      "outputs": []
    },
    {
      "cell_type": "markdown",
      "source": [
        "Following that, we'll remove some columns that won't be used in the analysis. Because there are too many missing values for the `m_order_eta` column, a new dataframe will be created."
      ],
      "metadata": {
        "id": "dfMma2fxxpd7"
      }
    },
    {
      "cell_type": "code",
      "source": [
        "data_cleaned = data.drop(columns=['order_time','origin_longitude','origin_latitude','m_order_eta'])"
      ],
      "metadata": {
        "id": "QFC_mddyoLTu"
      },
      "execution_count": null,
      "outputs": []
    },
    {
      "cell_type": "code",
      "source": [
        "data_cleaned.info()"
      ],
      "metadata": {
        "colab": {
          "base_uri": "https://localhost:8080/"
        },
        "id": "Diby6ic8tBJp",
        "outputId": "3dd5e6fb-2cb7-426b-d4b7-6d048ed3f283"
      },
      "execution_count": null,
      "outputs": [
        {
          "output_type": "stream",
          "name": "stdout",
          "text": [
            "<class 'pandas.core.frame.DataFrame'>\n",
            "RangeIndex: 10716 entries, 0 to 10715\n",
            "Data columns (total 5 columns):\n",
            " #   Column                         Non-Null Count  Dtype  \n",
            "---  ------                         --------------  -----  \n",
            " 0   order_gk                       10716 non-null  int64  \n",
            " 1   cancellations_time_in_seconds  7307 non-null   float64\n",
            " 2   is_driver_assigned             10716 non-null  object \n",
            " 3   order_status                   10716 non-null  object \n",
            " 4   order_hour                     10716 non-null  object \n",
            "dtypes: float64(1), int64(1), object(3)\n",
            "memory usage: 418.7+ KB\n"
          ]
        }
      ]
    },
    {
      "cell_type": "markdown",
      "source": [
        "Because there are 3409 rows with no value (NaN value) in the `cancellations_time_in_seconds`, we will impute using the average value based on the `order_hour` and `is_driver_assigned`."
      ],
      "metadata": {
        "id": "WdvOJWJWzaiw"
      }
    },
    {
      "cell_type": "code",
      "source": [
        "data_cleaned['cancellations_time_in_seconds'] = data_cleaned['cancellations_time_in_seconds'].fillna(data_cleaned.groupby(['order_hour','is_driver_assigned'])['cancellations_time_in_seconds'].transform('mean'))\n",
        "data_cleaned.info()"
      ],
      "metadata": {
        "colab": {
          "base_uri": "https://localhost:8080/"
        },
        "id": "KmEY6yE9yrlM",
        "outputId": "4239173a-d3ac-4191-c777-ed05792dc753"
      },
      "execution_count": null,
      "outputs": [
        {
          "output_type": "stream",
          "name": "stdout",
          "text": [
            "<class 'pandas.core.frame.DataFrame'>\n",
            "RangeIndex: 10716 entries, 0 to 10715\n",
            "Data columns (total 5 columns):\n",
            " #   Column                         Non-Null Count  Dtype  \n",
            "---  ------                         --------------  -----  \n",
            " 0   order_gk                       10716 non-null  int64  \n",
            " 1   cancellations_time_in_seconds  10716 non-null  float64\n",
            " 2   is_driver_assigned             10716 non-null  object \n",
            " 3   order_status                   10716 non-null  object \n",
            " 4   order_hour                     10716 non-null  object \n",
            "dtypes: float64(1), int64(1), object(3)\n",
            "memory usage: 418.7+ KB\n"
          ]
        }
      ]
    },
    {
      "cell_type": "code",
      "source": [
        "# New dataframe for eta column\n",
        "column = {'order_eta':data[\"m_order_eta\"],'order_hour':data[\"order_hour\"]}\n",
        "eta = pd.DataFrame(data=column)\n",
        "eta.head()"
      ],
      "metadata": {
        "colab": {
          "base_uri": "https://localhost:8080/",
          "height": 206
        },
        "id": "gDrDmwGsojdT",
        "outputId": "e4ba5542-fb7b-4965-8d87-b9253ba3fe25"
      },
      "execution_count": null,
      "outputs": [
        {
          "output_type": "execute_result",
          "data": {
            "text/plain": [
              "   order_eta order_hour\n",
              "0       60.0         18\n",
              "1        NaN         20\n",
              "2      477.0         12\n",
              "3      658.0         13\n",
              "4        NaN         21"
            ],
            "text/html": [
              "\n",
              "  <div id=\"df-30803a0b-9def-4f5f-82f3-851527c62c87\">\n",
              "    <div class=\"colab-df-container\">\n",
              "      <div>\n",
              "<style scoped>\n",
              "    .dataframe tbody tr th:only-of-type {\n",
              "        vertical-align: middle;\n",
              "    }\n",
              "\n",
              "    .dataframe tbody tr th {\n",
              "        vertical-align: top;\n",
              "    }\n",
              "\n",
              "    .dataframe thead th {\n",
              "        text-align: right;\n",
              "    }\n",
              "</style>\n",
              "<table border=\"1\" class=\"dataframe\">\n",
              "  <thead>\n",
              "    <tr style=\"text-align: right;\">\n",
              "      <th></th>\n",
              "      <th>order_eta</th>\n",
              "      <th>order_hour</th>\n",
              "    </tr>\n",
              "  </thead>\n",
              "  <tbody>\n",
              "    <tr>\n",
              "      <th>0</th>\n",
              "      <td>60.0</td>\n",
              "      <td>18</td>\n",
              "    </tr>\n",
              "    <tr>\n",
              "      <th>1</th>\n",
              "      <td>NaN</td>\n",
              "      <td>20</td>\n",
              "    </tr>\n",
              "    <tr>\n",
              "      <th>2</th>\n",
              "      <td>477.0</td>\n",
              "      <td>12</td>\n",
              "    </tr>\n",
              "    <tr>\n",
              "      <th>3</th>\n",
              "      <td>658.0</td>\n",
              "      <td>13</td>\n",
              "    </tr>\n",
              "    <tr>\n",
              "      <th>4</th>\n",
              "      <td>NaN</td>\n",
              "      <td>21</td>\n",
              "    </tr>\n",
              "  </tbody>\n",
              "</table>\n",
              "</div>\n",
              "      <button class=\"colab-df-convert\" onclick=\"convertToInteractive('df-30803a0b-9def-4f5f-82f3-851527c62c87')\"\n",
              "              title=\"Convert this dataframe to an interactive table.\"\n",
              "              style=\"display:none;\">\n",
              "        \n",
              "  <svg xmlns=\"http://www.w3.org/2000/svg\" height=\"24px\"viewBox=\"0 0 24 24\"\n",
              "       width=\"24px\">\n",
              "    <path d=\"M0 0h24v24H0V0z\" fill=\"none\"/>\n",
              "    <path d=\"M18.56 5.44l.94 2.06.94-2.06 2.06-.94-2.06-.94-.94-2.06-.94 2.06-2.06.94zm-11 1L8.5 8.5l.94-2.06 2.06-.94-2.06-.94L8.5 2.5l-.94 2.06-2.06.94zm10 10l.94 2.06.94-2.06 2.06-.94-2.06-.94-.94-2.06-.94 2.06-2.06.94z\"/><path d=\"M17.41 7.96l-1.37-1.37c-.4-.4-.92-.59-1.43-.59-.52 0-1.04.2-1.43.59L10.3 9.45l-7.72 7.72c-.78.78-.78 2.05 0 2.83L4 21.41c.39.39.9.59 1.41.59.51 0 1.02-.2 1.41-.59l7.78-7.78 2.81-2.81c.8-.78.8-2.07 0-2.86zM5.41 20L4 18.59l7.72-7.72 1.47 1.35L5.41 20z\"/>\n",
              "  </svg>\n",
              "      </button>\n",
              "      \n",
              "  <style>\n",
              "    .colab-df-container {\n",
              "      display:flex;\n",
              "      flex-wrap:wrap;\n",
              "      gap: 12px;\n",
              "    }\n",
              "\n",
              "    .colab-df-convert {\n",
              "      background-color: #E8F0FE;\n",
              "      border: none;\n",
              "      border-radius: 50%;\n",
              "      cursor: pointer;\n",
              "      display: none;\n",
              "      fill: #1967D2;\n",
              "      height: 32px;\n",
              "      padding: 0 0 0 0;\n",
              "      width: 32px;\n",
              "    }\n",
              "\n",
              "    .colab-df-convert:hover {\n",
              "      background-color: #E2EBFA;\n",
              "      box-shadow: 0px 1px 2px rgba(60, 64, 67, 0.3), 0px 1px 3px 1px rgba(60, 64, 67, 0.15);\n",
              "      fill: #174EA6;\n",
              "    }\n",
              "\n",
              "    [theme=dark] .colab-df-convert {\n",
              "      background-color: #3B4455;\n",
              "      fill: #D2E3FC;\n",
              "    }\n",
              "\n",
              "    [theme=dark] .colab-df-convert:hover {\n",
              "      background-color: #434B5C;\n",
              "      box-shadow: 0px 1px 3px 1px rgba(0, 0, 0, 0.15);\n",
              "      filter: drop-shadow(0px 1px 2px rgba(0, 0, 0, 0.3));\n",
              "      fill: #FFFFFF;\n",
              "    }\n",
              "  </style>\n",
              "\n",
              "      <script>\n",
              "        const buttonEl =\n",
              "          document.querySelector('#df-30803a0b-9def-4f5f-82f3-851527c62c87 button.colab-df-convert');\n",
              "        buttonEl.style.display =\n",
              "          google.colab.kernel.accessAllowed ? 'block' : 'none';\n",
              "\n",
              "        async function convertToInteractive(key) {\n",
              "          const element = document.querySelector('#df-30803a0b-9def-4f5f-82f3-851527c62c87');\n",
              "          const dataTable =\n",
              "            await google.colab.kernel.invokeFunction('convertToInteractive',\n",
              "                                                     [key], {});\n",
              "          if (!dataTable) return;\n",
              "\n",
              "          const docLinkHtml = 'Like what you see? Visit the ' +\n",
              "            '<a target=\"_blank\" href=https://colab.research.google.com/notebooks/data_table.ipynb>data table notebook</a>'\n",
              "            + ' to learn more about interactive tables.';\n",
              "          element.innerHTML = '';\n",
              "          dataTable['output_type'] = 'display_data';\n",
              "          await google.colab.output.renderOutput(dataTable, element);\n",
              "          const docLink = document.createElement('div');\n",
              "          docLink.innerHTML = docLinkHtml;\n",
              "          element.appendChild(docLink);\n",
              "        }\n",
              "      </script>\n",
              "    </div>\n",
              "  </div>\n",
              "  "
            ]
          },
          "metadata": {},
          "execution_count": 10
        }
      ]
    },
    {
      "cell_type": "code",
      "source": [
        "eta = eta.dropna()\n",
        "eta.info()"
      ],
      "metadata": {
        "colab": {
          "base_uri": "https://localhost:8080/"
        },
        "id": "i6ddKW9Nqo_i",
        "outputId": "e3b875fc-e352-4f28-cd0a-af9745525e7e"
      },
      "execution_count": null,
      "outputs": [
        {
          "output_type": "stream",
          "name": "stdout",
          "text": [
            "<class 'pandas.core.frame.DataFrame'>\n",
            "Int64Index: 2814 entries, 0 to 10715\n",
            "Data columns (total 2 columns):\n",
            " #   Column      Non-Null Count  Dtype  \n",
            "---  ------      --------------  -----  \n",
            " 0   order_eta   2814 non-null   float64\n",
            " 1   order_hour  2814 non-null   object \n",
            "dtypes: float64(1), object(1)\n",
            "memory usage: 66.0+ KB\n"
          ]
        }
      ]
    },
    {
      "cell_type": "code",
      "source": [
        "eta.to_excel(\"/content/drive/MyDrive/Data Project/Insights from Failed Orders (Gett)/etaonly.xlsx\")"
      ],
      "metadata": {
        "id": "07vhy2cArFKd"
      },
      "execution_count": null,
      "outputs": []
    },
    {
      "cell_type": "code",
      "source": [
        "data_cleaned.to_excel(\"/content/drive/MyDrive/Data Project/Insights from Failed Orders (Gett)/dataset.xlsx\")"
      ],
      "metadata": {
        "id": "cJptggefd4hz"
      },
      "execution_count": null,
      "outputs": []
    }
  ]
}